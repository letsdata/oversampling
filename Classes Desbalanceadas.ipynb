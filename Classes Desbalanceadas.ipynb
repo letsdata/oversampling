{
 "cells": [
  {
   "cell_type": "markdown",
   "id": "d2c23cdc",
   "metadata": {},
   "source": [
    "# <a>Classes Desbalanceadas: você está fazendo errado!</a>\n",
    "\n"
   ]
  },
  {
   "cell_type": "markdown",
   "id": "81b05345",
   "metadata": {},
   "source": [
    "---\n",
    "\n",
    "O Let's Data produz conteúdos gratuitos sobre Data Science!\n",
    "\n",
    "Confira algumas das nossa produções:\n",
    "\n",
    "* [Livro Digital - Como se tornar um Cientista de Dados?](https://ebook.letsdata.ai/)\n",
    "* [Inscreva-se no canal no YouTube](https://www.youtube.com/c/LetsDataAI?sub_confirmation=1)\n",
    "* [Siga-nos no Instagram](https://www.instagram.com/letsdata.ai)\n",
    "* Ouça nosso Podcast no [Spotify](https://open.spotify.com/show/0VsNN95jsJVRS424eCFDlg?si=EvQ1KBq1SqGVD4ojHrx4eQ), [Google Podcast](https://podcasts.google.com/feed/aHR0cHM6Ly9mZWVkcy5idXp6c3Byb3V0LmNvbS8xNzMxMjUyLnJzcw), [Apple Podcasts](https://podcasts.apple.com/us/podcast/lets-data-podcast/id1559072194), [Castbox](https://castbox.fm/vic/1559072194), [Deezer](https://www.deezer.com/show/2770422) e demais players. \n",
    "* Também estamos no [LinkedIn](https://linkedin.com/company/lets-data), [Twitter](https://twitter.com/letsdataAI), [Facebook](https://www.facebook.com/letsdataAI/).\n",
    "* [Pra finalizar, nosso blog no Medium](https://medium.com/lets-data).\n",
    "\n",
    "---"
   ]
  },
  {
   "cell_type": "code",
   "execution_count": null,
   "id": "89ad2208",
   "metadata": {},
   "outputs": [],
   "source": [
    "# Está no requirements mas também está aqui\n",
    "!pip notebook pandas scikit-learn imblearn"
   ]
  },
  {
   "cell_type": "code",
   "execution_count": 1,
   "id": "91177c34",
   "metadata": {},
   "outputs": [],
   "source": [
    "import pandas as pd"
   ]
  },
  {
   "cell_type": "code",
   "execution_count": 2,
   "id": "7b9266a7",
   "metadata": {},
   "outputs": [
    {
     "data": {
      "text/html": [
       "<div>\n",
       "<style scoped>\n",
       "    .dataframe tbody tr th:only-of-type {\n",
       "        vertical-align: middle;\n",
       "    }\n",
       "\n",
       "    .dataframe tbody tr th {\n",
       "        vertical-align: top;\n",
       "    }\n",
       "\n",
       "    .dataframe thead th {\n",
       "        text-align: right;\n",
       "    }\n",
       "</style>\n",
       "<table border=\"1\" class=\"dataframe\">\n",
       "  <thead>\n",
       "    <tr style=\"text-align: right;\">\n",
       "      <th></th>\n",
       "      <th>Pregnancies</th>\n",
       "      <th>Glucose</th>\n",
       "      <th>BloodPressure</th>\n",
       "      <th>SkinThickness</th>\n",
       "      <th>Insulin</th>\n",
       "      <th>BMI</th>\n",
       "      <th>DiabetesPedigreeFunction</th>\n",
       "      <th>Age</th>\n",
       "      <th>Outcome</th>\n",
       "    </tr>\n",
       "  </thead>\n",
       "  <tbody>\n",
       "    <tr>\n",
       "      <th>0</th>\n",
       "      <td>6</td>\n",
       "      <td>148</td>\n",
       "      <td>72</td>\n",
       "      <td>35</td>\n",
       "      <td>0</td>\n",
       "      <td>33.6</td>\n",
       "      <td>0.627</td>\n",
       "      <td>50</td>\n",
       "      <td>1</td>\n",
       "    </tr>\n",
       "    <tr>\n",
       "      <th>1</th>\n",
       "      <td>1</td>\n",
       "      <td>85</td>\n",
       "      <td>66</td>\n",
       "      <td>29</td>\n",
       "      <td>0</td>\n",
       "      <td>26.6</td>\n",
       "      <td>0.351</td>\n",
       "      <td>31</td>\n",
       "      <td>0</td>\n",
       "    </tr>\n",
       "    <tr>\n",
       "      <th>2</th>\n",
       "      <td>8</td>\n",
       "      <td>183</td>\n",
       "      <td>64</td>\n",
       "      <td>0</td>\n",
       "      <td>0</td>\n",
       "      <td>23.3</td>\n",
       "      <td>0.672</td>\n",
       "      <td>32</td>\n",
       "      <td>1</td>\n",
       "    </tr>\n",
       "    <tr>\n",
       "      <th>3</th>\n",
       "      <td>1</td>\n",
       "      <td>89</td>\n",
       "      <td>66</td>\n",
       "      <td>23</td>\n",
       "      <td>94</td>\n",
       "      <td>28.1</td>\n",
       "      <td>0.167</td>\n",
       "      <td>21</td>\n",
       "      <td>0</td>\n",
       "    </tr>\n",
       "    <tr>\n",
       "      <th>4</th>\n",
       "      <td>0</td>\n",
       "      <td>137</td>\n",
       "      <td>40</td>\n",
       "      <td>35</td>\n",
       "      <td>168</td>\n",
       "      <td>43.1</td>\n",
       "      <td>2.288</td>\n",
       "      <td>33</td>\n",
       "      <td>1</td>\n",
       "    </tr>\n",
       "  </tbody>\n",
       "</table>\n",
       "</div>"
      ],
      "text/plain": [
       "   Pregnancies  Glucose  BloodPressure  SkinThickness  Insulin   BMI  \\\n",
       "0            6      148             72             35        0  33.6   \n",
       "1            1       85             66             29        0  26.6   \n",
       "2            8      183             64              0        0  23.3   \n",
       "3            1       89             66             23       94  28.1   \n",
       "4            0      137             40             35      168  43.1   \n",
       "\n",
       "   DiabetesPedigreeFunction  Age  Outcome  \n",
       "0                     0.627   50        1  \n",
       "1                     0.351   31        0  \n",
       "2                     0.672   32        1  \n",
       "3                     0.167   21        0  \n",
       "4                     2.288   33        1  "
      ]
     },
     "execution_count": 2,
     "metadata": {},
     "output_type": "execute_result"
    }
   ],
   "source": [
    "# Indios da etnia PIMA\n",
    "df = pd.read_csv('./data/diabetes.csv')\n",
    "\n",
    "df.head()"
   ]
  },
  {
   "cell_type": "code",
   "execution_count": 3,
   "id": "cb684cb1",
   "metadata": {},
   "outputs": [
    {
     "data": {
      "text/plain": [
       "0    500\n",
       "1    268\n",
       "Name: Outcome, dtype: int64"
      ]
     },
     "execution_count": 3,
     "metadata": {},
     "output_type": "execute_result"
    }
   ],
   "source": [
    "df['Outcome'].value_counts()"
   ]
  },
  {
   "cell_type": "code",
   "execution_count": 4,
   "id": "ba73d4a1",
   "metadata": {},
   "outputs": [
    {
     "data": {
      "text/plain": [
       "34.89583333333333"
      ]
     },
     "execution_count": 4,
     "metadata": {},
     "output_type": "execute_result"
    }
   ],
   "source": [
    "268/len(df) * 100"
   ]
  },
  {
   "cell_type": "code",
   "execution_count": 5,
   "id": "346a9f6e",
   "metadata": {},
   "outputs": [
    {
     "data": {
      "text/plain": [
       "65.10416666666667"
      ]
     },
     "execution_count": 5,
     "metadata": {},
     "output_type": "execute_result"
    }
   ],
   "source": [
    "100 - (268/len(df) * 100)"
   ]
  },
  {
   "cell_type": "code",
   "execution_count": 6,
   "id": "5c0748bc",
   "metadata": {},
   "outputs": [
    {
     "data": {
      "text/plain": [
       "((768, 8), (768, 1))"
      ]
     },
     "execution_count": 6,
     "metadata": {},
     "output_type": "execute_result"
    }
   ],
   "source": [
    "X = df.drop('Outcome', axis=1)\n",
    "y = df[['Outcome']]\n",
    "\n",
    "X.shape, y.shape"
   ]
  },
  {
   "cell_type": "code",
   "execution_count": 7,
   "id": "9e9f3d5a",
   "metadata": {},
   "outputs": [
    {
     "data": {
      "text/plain": [
       "((576, 8), (192, 8), (576, 1), (192, 1))"
      ]
     },
     "execution_count": 7,
     "metadata": {},
     "output_type": "execute_result"
    }
   ],
   "source": [
    "from sklearn.model_selection import train_test_split\n",
    "\n",
    "# Separação de treino e teste\n",
    "X_treino, X_teste, y_treino, y_teste = train_test_split(X, y)\n",
    "\n",
    "X_treino.shape, X_teste.shape, y_treino.shape, y_teste.shape"
   ]
  },
  {
   "cell_type": "code",
   "execution_count": 14,
   "id": "e224a1c8",
   "metadata": {},
   "outputs": [],
   "source": [
    "# SMOTE está disponível no pacote imblearn (lá tem um monte de outras técnicas)\n",
    "from imblearn.over_sampling import SMOTE\n",
    "from sklearn.metrics import accuracy_score\n",
    "from sklearn.model_selection import KFold\n",
    "\n",
    "# função de validação cruzada NA MÃO\n",
    "def validacao_cruzada(modelo, X, y, oversampling=False):\n",
    "    # KFold do scikit-learn\n",
    "    kfold = KFold(n_splits=10)\n",
    "\n",
    "    # lista de acuracias de cada split\n",
    "    acuracias_split = []\n",
    "    \n",
    "    # iterando sobre os splits\n",
    "    for idx, (idx_treino, idx_validacao) in enumerate(kfold.split(X)):\n",
    "        X_split_treino = X.iloc[idx_treino, :]\n",
    "        y_split_treino = y.iloc[idx_treino, :]\n",
    "    \n",
    "        # oversampling, só no split de treino!!\n",
    "        if oversampling:\n",
    "            sm = SMOTE(random_state=42)\n",
    "            X_split_treino, y_split_treino = sm.fit_resample(X_split_treino, y_split_treino)\n",
    "        \n",
    "        # Com os dados balenceados SÓ NO TREINO, vamos treinar o nosso modelo\n",
    "        modelo.fit(X_split_treino, y_split_treino.values.flatten())\n",
    "    \n",
    "        X_split_validacao = X.iloc[idx_validacao, :]\n",
    "        y_split_validacao = y.iloc[idx_validacao, :]\n",
    "        \n",
    "        # Validação SEM oversampling, como a cartilha ensina :)\n",
    "        # Amostra do mundo real, ou seja, com dados DESBALANCEADOS\n",
    "        predicoes_validacao = modelo.predict(X_split_validacao)\n",
    "        \n",
    "        acuracia_split = accuracy_score(y_split_validacao, predicoes_validacao)\n",
    "        \n",
    "        acuracias_split.append(acuracia_split)\n",
    "        \n",
    "        print(f'Acurácia do split {idx}: {acuracia_split}')\n",
    "    \n",
    "    return acuracias_split\n",
    "    "
   ]
  },
  {
   "cell_type": "code",
   "execution_count": 9,
   "id": "9646a8b2",
   "metadata": {},
   "outputs": [],
   "source": [
    "from sklearn.ensemble import HistGradientBoostingClassifier\n",
    "from statistics import mean\n",
    "\n",
    "# Criando o modelo\n",
    "modelo_hgb = HistGradientBoostingClassifier()"
   ]
  },
  {
   "cell_type": "code",
   "execution_count": 15,
   "id": "e1619d0c",
   "metadata": {},
   "outputs": [
    {
     "name": "stdout",
     "output_type": "stream",
     "text": [
      "Acurácia do split 0: 0.8103448275862069\n",
      "Acurácia do split 1: 0.7586206896551724\n",
      "Acurácia do split 2: 0.7413793103448276\n",
      "Acurácia do split 3: 0.7758620689655172\n",
      "Acurácia do split 4: 0.7068965517241379\n",
      "Acurácia do split 5: 0.7931034482758621\n",
      "Acurácia do split 6: 0.7543859649122807\n",
      "Acurácia do split 7: 0.7894736842105263\n",
      "Acurácia do split 8: 0.7192982456140351\n",
      "Acurácia do split 9: 0.631578947368421\n"
     ]
    }
   ],
   "source": [
    "media_acuracia_sem_smote = mean(validacao_cruzada(modelo_hgb, X_treino, y_treino, oversampling=False)) * 100"
   ]
  },
  {
   "cell_type": "code",
   "execution_count": 16,
   "id": "e0cbaf6f",
   "metadata": {},
   "outputs": [
    {
     "data": {
      "text/plain": [
       "74.80943738656988"
      ]
     },
     "execution_count": 16,
     "metadata": {},
     "output_type": "execute_result"
    }
   ],
   "source": [
    "media_acuracia_sem_smote"
   ]
  },
  {
   "cell_type": "code",
   "execution_count": 17,
   "id": "9b589faf",
   "metadata": {},
   "outputs": [
    {
     "name": "stdout",
     "output_type": "stream",
     "text": [
      "Acurácia do split 0: 0.7413793103448276\n",
      "Acurácia do split 1: 0.7241379310344828\n",
      "Acurácia do split 2: 0.7413793103448276\n",
      "Acurácia do split 3: 0.7931034482758621\n",
      "Acurácia do split 4: 0.6896551724137931\n",
      "Acurácia do split 5: 0.7931034482758621\n",
      "Acurácia do split 6: 0.7894736842105263\n",
      "Acurácia do split 7: 0.7894736842105263\n",
      "Acurácia do split 8: 0.7719298245614035\n",
      "Acurácia do split 9: 0.631578947368421\n"
     ]
    }
   ],
   "source": [
    "media_acuracia_com_smote = mean(validacao_cruzada(modelo_hgb, X_treino, y_treino, oversampling=True)) * 100"
   ]
  },
  {
   "cell_type": "code",
   "execution_count": 18,
   "id": "37fd266c",
   "metadata": {},
   "outputs": [
    {
     "data": {
      "text/plain": [
       "74.65214761040532"
      ]
     },
     "execution_count": 18,
     "metadata": {},
     "output_type": "execute_result"
    }
   ],
   "source": [
    "media_acuracia_com_smote"
   ]
  },
  {
   "cell_type": "code",
   "execution_count": 19,
   "id": "618bd6ae",
   "metadata": {},
   "outputs": [
    {
     "data": {
      "text/plain": [
       "'Sem smote: 74.81, com_smote: 74.65'"
      ]
     },
     "execution_count": 19,
     "metadata": {},
     "output_type": "execute_result"
    }
   ],
   "source": [
    "f'Sem smote: {media_acuracia_sem_smote:.02f}, com_smote: {media_acuracia_com_smote:.02f}'"
   ]
  },
  {
   "cell_type": "markdown",
   "id": "c3d7eac0",
   "metadata": {},
   "source": [
    "## CUIDADO! Agora vamos mostrar o jeito ERRADO!"
   ]
  },
  {
   "cell_type": "code",
   "execution_count": 20,
   "id": "6b296cb3",
   "metadata": {},
   "outputs": [
    {
     "data": {
      "text/plain": [
       "80.03131991051454"
      ]
     },
     "execution_count": 20,
     "metadata": {},
     "output_type": "execute_result"
    }
   ],
   "source": [
    "from sklearn.model_selection import cross_val_score\n",
    "\n",
    "# ERRADO! Não se deve balancear as classes antes do split\n",
    "sm = SMOTE(random_state=42)\n",
    "X_treino, y_treino = sm.fit_resample(X_treino, y_treino)\n",
    "\n",
    "# Os splits criados no cross_val_score estão com a validação BALANCEADA\n",
    "# E isso é distorcer a realidade!\n",
    "mean(cross_val_score(modelo_hgb, X_treino, y_treino.values.flatten())) * 100"
   ]
  },
  {
   "cell_type": "code",
   "execution_count": null,
   "id": "9173eda8",
   "metadata": {},
   "outputs": [],
   "source": []
  }
 ],
 "metadata": {
  "kernelspec": {
   "display_name": "Python 3 (ipykernel)",
   "language": "python",
   "name": "python3"
  },
  "language_info": {
   "codemirror_mode": {
    "name": "ipython",
    "version": 3
   },
   "file_extension": ".py",
   "mimetype": "text/x-python",
   "name": "python",
   "nbconvert_exporter": "python",
   "pygments_lexer": "ipython3",
   "version": "3.9.0"
  }
 },
 "nbformat": 4,
 "nbformat_minor": 5
}
