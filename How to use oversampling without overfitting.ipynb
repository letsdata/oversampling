{
 "cells": [
  {
   "cell_type": "markdown",
   "id": "d2c23cdc",
   "metadata": {},
   "source": [
    "# <a>How to use oversampling without overfitting!</a>\n",
    "\n"
   ]
  },
  {
   "cell_type": "code",
   "execution_count": 1,
   "id": "89ad2208",
   "metadata": {
    "scrolled": true
   },
   "outputs": [
    {
     "name": "stdout",
     "output_type": "stream",
     "text": [
      "Requirement already satisfied: notebook in f:\\leon\\venvs\\ml\\lib\\site-packages (6.4.12)"
     ]
    },
    {
     "name": "stderr",
     "output_type": "stream",
     "text": [
      "WARNING: You are using pip version 22.0.4; however, version 22.2.2 is available.\n",
      "You should consider upgrading via the 'F:\\leon\\venvs\\ml\\Scripts\\python.exe -m pip install --upgrade pip' command.\n"
     ]
    },
    {
     "name": "stdout",
     "output_type": "stream",
     "text": [
      "\n",
      "Requirement already satisfied: pandas in f:\\leon\\venvs\\ml\\lib\\site-packages (1.4.4)\n",
      "Requirement already satisfied: scikit-learn in f:\\leon\\venvs\\ml\\lib\\site-packages (1.1.1)\n",
      "Requirement already satisfied: imblearn in f:\\leon\\venvs\\ml\\lib\\site-packages (0.0)\n",
      "Requirement already satisfied: pyzmq>=17 in f:\\leon\\venvs\\ml\\lib\\site-packages (from notebook) (22.3.0)\n",
      "Requirement already satisfied: terminado>=0.8.3 in f:\\leon\\venvs\\ml\\lib\\site-packages (from notebook) (0.13.3)\n",
      "Requirement already satisfied: jupyter-core>=4.6.1 in f:\\leon\\venvs\\ml\\lib\\site-packages (from notebook) (4.9.2)\n",
      "Requirement already satisfied: nbformat in f:\\leon\\venvs\\ml\\lib\\site-packages (from notebook) (5.2.0)\n",
      "Requirement already satisfied: jinja2 in f:\\leon\\venvs\\ml\\lib\\site-packages (from notebook) (3.1.1)\n",
      "Requirement already satisfied: jupyter-client>=5.3.4 in f:\\leon\\venvs\\ml\\lib\\site-packages (from notebook) (7.1.2)\n",
      "Requirement already satisfied: nest-asyncio>=1.5 in f:\\leon\\venvs\\ml\\lib\\site-packages (from notebook) (1.5.4)\n",
      "Requirement already satisfied: prometheus-client in f:\\leon\\venvs\\ml\\lib\\site-packages (from notebook) (0.13.1)\n",
      "Requirement already satisfied: nbconvert>=5 in f:\\leon\\venvs\\ml\\lib\\site-packages (from notebook) (6.4.5)\n",
      "Requirement already satisfied: argon2-cffi in f:\\leon\\venvs\\ml\\lib\\site-packages (from notebook) (21.3.0)\n",
      "Requirement already satisfied: tornado>=6.1 in f:\\leon\\venvs\\ml\\lib\\site-packages (from notebook) (6.1)\n",
      "Requirement already satisfied: ipykernel in f:\\leon\\venvs\\ml\\lib\\site-packages (from notebook) (6.10.0)\n",
      "Requirement already satisfied: Send2Trash>=1.8.0 in f:\\leon\\venvs\\ml\\lib\\site-packages (from notebook) (1.8.0)\n",
      "Requirement already satisfied: traitlets>=4.2.1 in f:\\leon\\venvs\\ml\\lib\\site-packages (from notebook) (5.1.1)\n",
      "Requirement already satisfied: ipython-genutils in f:\\leon\\venvs\\ml\\lib\\site-packages (from notebook) (0.2.0)\n",
      "Requirement already satisfied: pytz>=2020.1 in f:\\leon\\venvs\\ml\\lib\\site-packages (from pandas) (2022.1)\n",
      "Requirement already satisfied: python-dateutil>=2.8.1 in f:\\leon\\venvs\\ml\\lib\\site-packages (from pandas) (2.8.2)\n",
      "Requirement already satisfied: numpy>=1.18.5 in f:\\leon\\venvs\\ml\\lib\\site-packages (from pandas) (1.22.3)\n",
      "Requirement already satisfied: scipy>=1.3.2 in f:\\leon\\venvs\\ml\\lib\\site-packages (from scikit-learn) (1.8.0)\n",
      "Requirement already satisfied: joblib>=1.0.0 in f:\\leon\\venvs\\ml\\lib\\site-packages (from scikit-learn) (1.1.0)\n",
      "Requirement already satisfied: threadpoolctl>=2.0.0 in f:\\leon\\venvs\\ml\\lib\\site-packages (from scikit-learn) (3.1.0)\n",
      "Requirement already satisfied: imbalanced-learn in f:\\leon\\venvs\\ml\\lib\\site-packages (from imblearn) (0.9.1)\n",
      "Requirement already satisfied: entrypoints in f:\\leon\\venvs\\ml\\lib\\site-packages (from jupyter-client>=5.3.4->notebook) (0.4)\n",
      "Requirement already satisfied: pywin32>=1.0 in f:\\leon\\venvs\\ml\\lib\\site-packages (from jupyter-core>=4.6.1->notebook) (303)\n",
      "Requirement already satisfied: defusedxml in f:\\leon\\venvs\\ml\\lib\\site-packages (from nbconvert>=5->notebook) (0.7.1)\n",
      "Requirement already satisfied: beautifulsoup4 in f:\\leon\\venvs\\ml\\lib\\site-packages (from nbconvert>=5->notebook) (4.10.0)\n",
      "Requirement already satisfied: bleach in f:\\leon\\venvs\\ml\\lib\\site-packages (from nbconvert>=5->notebook) (4.1.0)\n",
      "Requirement already satisfied: testpath in f:\\leon\\venvs\\ml\\lib\\site-packages (from nbconvert>=5->notebook) (0.6.0)\n",
      "Requirement already satisfied: pygments>=2.4.1 in f:\\leon\\venvs\\ml\\lib\\site-packages (from nbconvert>=5->notebook) (2.11.2)\n",
      "Requirement already satisfied: pandocfilters>=1.4.1 in f:\\leon\\venvs\\ml\\lib\\site-packages (from nbconvert>=5->notebook) (1.5.0)\n",
      "Requirement already satisfied: mistune<2,>=0.8.1 in f:\\leon\\venvs\\ml\\lib\\site-packages (from nbconvert>=5->notebook) (0.8.4)\n",
      "Requirement already satisfied: MarkupSafe>=2.0 in f:\\leon\\venvs\\ml\\lib\\site-packages (from nbconvert>=5->notebook) (2.1.1)\n",
      "Requirement already satisfied: jupyterlab-pygments in f:\\leon\\venvs\\ml\\lib\\site-packages (from nbconvert>=5->notebook) (0.1.2)\n",
      "Requirement already satisfied: nbclient<0.6.0,>=0.5.0 in f:\\leon\\venvs\\ml\\lib\\site-packages (from nbconvert>=5->notebook) (0.5.13)\n",
      "Requirement already satisfied: jsonschema!=2.5.0,>=2.4 in f:\\leon\\venvs\\ml\\lib\\site-packages (from nbformat->notebook) (4.4.0)\n",
      "Requirement already satisfied: six>=1.5 in f:\\leon\\venvs\\ml\\lib\\site-packages (from python-dateutil>=2.8.1->pandas) (1.16.0)\n",
      "Requirement already satisfied: pywinpty>=1.1.0 in f:\\leon\\venvs\\ml\\lib\\site-packages (from terminado>=0.8.3->notebook) (2.0.5)\n",
      "Requirement already satisfied: argon2-cffi-bindings in f:\\leon\\venvs\\ml\\lib\\site-packages (from argon2-cffi->notebook) (21.2.0)\n",
      "Requirement already satisfied: psutil in f:\\leon\\venvs\\ml\\lib\\site-packages (from ipykernel->notebook) (5.9.0)\n",
      "Requirement already satisfied: debugpy<2.0,>=1.0.0 in f:\\leon\\venvs\\ml\\lib\\site-packages (from ipykernel->notebook) (1.6.0)\n",
      "Requirement already satisfied: matplotlib-inline<0.2.0,>=0.1.0 in f:\\leon\\venvs\\ml\\lib\\site-packages (from ipykernel->notebook) (0.1.3)\n",
      "Requirement already satisfied: ipython>=7.23.1 in f:\\leon\\venvs\\ml\\lib\\site-packages (from ipykernel->notebook) (8.2.0)\n",
      "Requirement already satisfied: decorator in f:\\leon\\venvs\\ml\\lib\\site-packages (from ipython>=7.23.1->ipykernel->notebook) (5.1.1)\n",
      "Requirement already satisfied: jedi>=0.16 in f:\\leon\\venvs\\ml\\lib\\site-packages (from ipython>=7.23.1->ipykernel->notebook) (0.18.1)\n",
      "Requirement already satisfied: colorama in f:\\leon\\venvs\\ml\\lib\\site-packages (from ipython>=7.23.1->ipykernel->notebook) (0.4.4)\n",
      "Requirement already satisfied: pickleshare in f:\\leon\\venvs\\ml\\lib\\site-packages (from ipython>=7.23.1->ipykernel->notebook) (0.7.5)\n",
      "Requirement already satisfied: setuptools>=18.5 in f:\\leon\\venvs\\ml\\lib\\site-packages (from ipython>=7.23.1->ipykernel->notebook) (60.10.0)\n",
      "Requirement already satisfied: prompt-toolkit!=3.0.0,!=3.0.1,<3.1.0,>=2.0.0 in f:\\leon\\venvs\\ml\\lib\\site-packages (from ipython>=7.23.1->ipykernel->notebook) (3.0.28)\n",
      "Requirement already satisfied: backcall in f:\\leon\\venvs\\ml\\lib\\site-packages (from ipython>=7.23.1->ipykernel->notebook) (0.2.0)\n",
      "Requirement already satisfied: stack-data in f:\\leon\\venvs\\ml\\lib\\site-packages (from ipython>=7.23.1->ipykernel->notebook) (0.2.0)\n",
      "Requirement already satisfied: attrs>=17.4.0 in f:\\leon\\venvs\\ml\\lib\\site-packages (from jsonschema!=2.5.0,>=2.4->nbformat->notebook) (21.4.0)\n",
      "Requirement already satisfied: pyrsistent!=0.17.0,!=0.17.1,!=0.17.2,>=0.14.0 in f:\\leon\\venvs\\ml\\lib\\site-packages (from jsonschema!=2.5.0,>=2.4->nbformat->notebook) (0.18.1)\n",
      "Requirement already satisfied: cffi>=1.0.1 in f:\\leon\\venvs\\ml\\lib\\site-packages (from argon2-cffi-bindings->argon2-cffi->notebook) (1.15.0)\n",
      "Requirement already satisfied: soupsieve>1.2 in f:\\leon\\venvs\\ml\\lib\\site-packages (from beautifulsoup4->nbconvert>=5->notebook) (2.3.1)\n",
      "Requirement already satisfied: webencodings in f:\\leon\\venvs\\ml\\lib\\site-packages (from bleach->nbconvert>=5->notebook) (0.5.1)\n",
      "Requirement already satisfied: packaging in f:\\leon\\venvs\\ml\\lib\\site-packages (from bleach->nbconvert>=5->notebook) (21.3)\n",
      "Requirement already satisfied: pycparser in f:\\leon\\venvs\\ml\\lib\\site-packages (from cffi>=1.0.1->argon2-cffi-bindings->argon2-cffi->notebook) (2.21)\n",
      "Requirement already satisfied: parso<0.9.0,>=0.8.0 in f:\\leon\\venvs\\ml\\lib\\site-packages (from jedi>=0.16->ipython>=7.23.1->ipykernel->notebook) (0.8.3)\n",
      "Requirement already satisfied: wcwidth in f:\\leon\\venvs\\ml\\lib\\site-packages (from prompt-toolkit!=3.0.0,!=3.0.1,<3.1.0,>=2.0.0->ipython>=7.23.1->ipykernel->notebook) (0.2.5)\n",
      "Requirement already satisfied: pyparsing!=3.0.5,>=2.0.2 in f:\\leon\\venvs\\ml\\lib\\site-packages (from packaging->bleach->nbconvert>=5->notebook) (3.0.7)\n",
      "Requirement already satisfied: executing in f:\\leon\\venvs\\ml\\lib\\site-packages (from stack-data->ipython>=7.23.1->ipykernel->notebook) (0.8.3)\n",
      "Requirement already satisfied: asttokens in f:\\leon\\venvs\\ml\\lib\\site-packages (from stack-data->ipython>=7.23.1->ipykernel->notebook) (2.0.5)\n",
      "Requirement already satisfied: pure-eval in f:\\leon\\venvs\\ml\\lib\\site-packages (from stack-data->ipython>=7.23.1->ipykernel->notebook) (0.2.2)\n"
     ]
    }
   ],
   "source": [
    "!pip install notebook pandas scikit-learn imblearn"
   ]
  },
  {
   "cell_type": "code",
   "execution_count": 2,
   "id": "91177c34",
   "metadata": {},
   "outputs": [],
   "source": [
    "import pandas as pd"
   ]
  },
  {
   "cell_type": "code",
   "execution_count": 3,
   "id": "7b9266a7",
   "metadata": {},
   "outputs": [
    {
     "data": {
      "text/html": [
       "<div>\n",
       "<style scoped>\n",
       "    .dataframe tbody tr th:only-of-type {\n",
       "        vertical-align: middle;\n",
       "    }\n",
       "\n",
       "    .dataframe tbody tr th {\n",
       "        vertical-align: top;\n",
       "    }\n",
       "\n",
       "    .dataframe thead th {\n",
       "        text-align: right;\n",
       "    }\n",
       "</style>\n",
       "<table border=\"1\" class=\"dataframe\">\n",
       "  <thead>\n",
       "    <tr style=\"text-align: right;\">\n",
       "      <th></th>\n",
       "      <th>Pregnancies</th>\n",
       "      <th>Glucose</th>\n",
       "      <th>BloodPressure</th>\n",
       "      <th>SkinThickness</th>\n",
       "      <th>Insulin</th>\n",
       "      <th>BMI</th>\n",
       "      <th>DiabetesPedigreeFunction</th>\n",
       "      <th>Age</th>\n",
       "      <th>Outcome</th>\n",
       "    </tr>\n",
       "  </thead>\n",
       "  <tbody>\n",
       "    <tr>\n",
       "      <th>0</th>\n",
       "      <td>6</td>\n",
       "      <td>148</td>\n",
       "      <td>72</td>\n",
       "      <td>35</td>\n",
       "      <td>0</td>\n",
       "      <td>33.6</td>\n",
       "      <td>0.627</td>\n",
       "      <td>50</td>\n",
       "      <td>1</td>\n",
       "    </tr>\n",
       "    <tr>\n",
       "      <th>1</th>\n",
       "      <td>1</td>\n",
       "      <td>85</td>\n",
       "      <td>66</td>\n",
       "      <td>29</td>\n",
       "      <td>0</td>\n",
       "      <td>26.6</td>\n",
       "      <td>0.351</td>\n",
       "      <td>31</td>\n",
       "      <td>0</td>\n",
       "    </tr>\n",
       "    <tr>\n",
       "      <th>2</th>\n",
       "      <td>8</td>\n",
       "      <td>183</td>\n",
       "      <td>64</td>\n",
       "      <td>0</td>\n",
       "      <td>0</td>\n",
       "      <td>23.3</td>\n",
       "      <td>0.672</td>\n",
       "      <td>32</td>\n",
       "      <td>1</td>\n",
       "    </tr>\n",
       "    <tr>\n",
       "      <th>3</th>\n",
       "      <td>1</td>\n",
       "      <td>89</td>\n",
       "      <td>66</td>\n",
       "      <td>23</td>\n",
       "      <td>94</td>\n",
       "      <td>28.1</td>\n",
       "      <td>0.167</td>\n",
       "      <td>21</td>\n",
       "      <td>0</td>\n",
       "    </tr>\n",
       "    <tr>\n",
       "      <th>4</th>\n",
       "      <td>0</td>\n",
       "      <td>137</td>\n",
       "      <td>40</td>\n",
       "      <td>35</td>\n",
       "      <td>168</td>\n",
       "      <td>43.1</td>\n",
       "      <td>2.288</td>\n",
       "      <td>33</td>\n",
       "      <td>1</td>\n",
       "    </tr>\n",
       "  </tbody>\n",
       "</table>\n",
       "</div>"
      ],
      "text/plain": [
       "   Pregnancies  Glucose  BloodPressure  SkinThickness  Insulin   BMI  \\\n",
       "0            6      148             72             35        0  33.6   \n",
       "1            1       85             66             29        0  26.6   \n",
       "2            8      183             64              0        0  23.3   \n",
       "3            1       89             66             23       94  28.1   \n",
       "4            0      137             40             35      168  43.1   \n",
       "\n",
       "   DiabetesPedigreeFunction  Age  Outcome  \n",
       "0                     0.627   50        1  \n",
       "1                     0.351   31        0  \n",
       "2                     0.672   32        1  \n",
       "3                     0.167   21        0  \n",
       "4                     2.288   33        1  "
      ]
     },
     "execution_count": 3,
     "metadata": {},
     "output_type": "execute_result"
    }
   ],
   "source": [
    "# PIMA indians\n",
    "df = pd.read_csv('./data/diabetes.csv')\n",
    "\n",
    "df.head()"
   ]
  },
  {
   "cell_type": "code",
   "execution_count": 4,
   "id": "cb684cb1",
   "metadata": {},
   "outputs": [
    {
     "data": {
      "text/plain": [
       "0    500\n",
       "1    268\n",
       "Name: Outcome, dtype: int64"
      ]
     },
     "execution_count": 4,
     "metadata": {},
     "output_type": "execute_result"
    }
   ],
   "source": [
    "df['Outcome'].value_counts()"
   ]
  },
  {
   "cell_type": "code",
   "execution_count": 5,
   "id": "ba73d4a1",
   "metadata": {},
   "outputs": [
    {
     "data": {
      "text/plain": [
       "34.89583333333333"
      ]
     },
     "execution_count": 5,
     "metadata": {},
     "output_type": "execute_result"
    }
   ],
   "source": [
    "268/len(df) * 100"
   ]
  },
  {
   "cell_type": "code",
   "execution_count": 6,
   "id": "346a9f6e",
   "metadata": {},
   "outputs": [
    {
     "data": {
      "text/plain": [
       "65.10416666666667"
      ]
     },
     "execution_count": 6,
     "metadata": {},
     "output_type": "execute_result"
    }
   ],
   "source": [
    "100 - (268/len(df) * 100)"
   ]
  },
  {
   "cell_type": "code",
   "execution_count": 7,
   "id": "5c0748bc",
   "metadata": {},
   "outputs": [
    {
     "data": {
      "text/plain": [
       "((768, 8), (768, 1))"
      ]
     },
     "execution_count": 7,
     "metadata": {},
     "output_type": "execute_result"
    }
   ],
   "source": [
    "X = df.drop('Outcome', axis=1)\n",
    "y = df[['Outcome']]\n",
    "\n",
    "X.shape, y.shape"
   ]
  },
  {
   "cell_type": "code",
   "execution_count": 8,
   "id": "9e9f3d5a",
   "metadata": {},
   "outputs": [
    {
     "data": {
      "text/plain": [
       "((576, 8), (192, 8), (576, 1), (192, 1))"
      ]
     },
     "execution_count": 8,
     "metadata": {},
     "output_type": "execute_result"
    }
   ],
   "source": [
    "from sklearn.model_selection import train_test_split\n",
    "\n",
    "X_train, X_test, y_train, y_test = train_test_split(X, y)\n",
    "\n",
    "X_train.shape, X_test.shape, y_train.shape, y_test.shape"
   ]
  },
  {
   "cell_type": "code",
   "execution_count": 9,
   "id": "e224a1c8",
   "metadata": {},
   "outputs": [],
   "source": [
    "from imblearn.over_sampling import SMOTE\n",
    "from sklearn.metrics import accuracy_score\n",
    "from sklearn.model_selection import KFold\n",
    "\n",
    "def cross_validation(model, X, y, oversampling=False):\n",
    "    kfold = KFold(n_splits=10)\n",
    "\n",
    "    fold_accuracies = []\n",
    "    \n",
    "    for idx, (idx_train, idx_validation) in enumerate(kfold.split(X)):\n",
    "        X_train_split = X.iloc[idx_train, :]\n",
    "        y_train_split = y.iloc[idx_train, :]\n",
    "    \n",
    "        if oversampling:\n",
    "            sm = SMOTE(random_state=42)\n",
    "            X_train_split, y_train_split = sm.fit_resample(X_train_split, y_train_split)\n",
    "        \n",
    "        model.fit(X_train_split, y_train_split.values.flatten())\n",
    "    \n",
    "        X_validation_split = X.iloc[idx_validation, :]\n",
    "        y_validation_split = y.iloc[idx_validation, :]\n",
    "        \n",
    "        predictions = model.predict(X_validation_split)\n",
    "        \n",
    "        fold_accuracy = accuracy_score(y_validation_split, predictions)\n",
    "        \n",
    "        fold_accuracies.append(fold_accuracy)\n",
    "        \n",
    "        print(f'{idx} fold accuracy: {fold_accuracy}')\n",
    "    \n",
    "    return fold_accuracies\n",
    "    "
   ]
  },
  {
   "cell_type": "code",
   "execution_count": 10,
   "id": "9646a8b2",
   "metadata": {},
   "outputs": [],
   "source": [
    "from sklearn.ensemble import HistGradientBoostingClassifier\n",
    "from statistics import mean\n",
    "\n",
    "# Criando o modelo\n",
    "hgb = HistGradientBoostingClassifier()"
   ]
  },
  {
   "cell_type": "code",
   "execution_count": 11,
   "id": "e1619d0c",
   "metadata": {},
   "outputs": [
    {
     "name": "stdout",
     "output_type": "stream",
     "text": [
      "0 fold accuracy: 0.7586206896551724\n",
      "1 fold accuracy: 0.7586206896551724\n",
      "2 fold accuracy: 0.7241379310344828\n",
      "3 fold accuracy: 0.7758620689655172\n",
      "4 fold accuracy: 0.7586206896551724\n",
      "5 fold accuracy: 0.8275862068965517\n",
      "6 fold accuracy: 0.7192982456140351\n",
      "7 fold accuracy: 0.7719298245614035\n",
      "8 fold accuracy: 0.6842105263157895\n",
      "9 fold accuracy: 0.7719298245614035\n"
     ]
    }
   ],
   "source": [
    "no_smote_accuracy = mean(cross_validation(hgb, X_train, y_train, oversampling=False)) * 100"
   ]
  },
  {
   "cell_type": "code",
   "execution_count": 12,
   "id": "e0cbaf6f",
   "metadata": {},
   "outputs": [
    {
     "data": {
      "text/plain": [
       "75.50816696914701"
      ]
     },
     "execution_count": 12,
     "metadata": {},
     "output_type": "execute_result"
    }
   ],
   "source": [
    "no_smote_accuracy"
   ]
  },
  {
   "cell_type": "code",
   "execution_count": 13,
   "id": "9b589faf",
   "metadata": {},
   "outputs": [
    {
     "name": "stdout",
     "output_type": "stream",
     "text": [
      "0 fold accuracy: 0.7931034482758621\n",
      "1 fold accuracy: 0.7758620689655172\n",
      "2 fold accuracy: 0.7413793103448276\n",
      "3 fold accuracy: 0.7068965517241379\n",
      "4 fold accuracy: 0.7068965517241379\n",
      "5 fold accuracy: 0.7758620689655172\n",
      "6 fold accuracy: 0.6666666666666666\n",
      "7 fold accuracy: 0.7894736842105263\n",
      "8 fold accuracy: 0.631578947368421\n",
      "9 fold accuracy: 0.7192982456140351\n"
     ]
    }
   ],
   "source": [
    "smote_accuracy = mean(cross_validation(hgb, X_train, y_train, oversampling=True)) * 100"
   ]
  },
  {
   "cell_type": "code",
   "execution_count": 14,
   "id": "37fd266c",
   "metadata": {},
   "outputs": [
    {
     "data": {
      "text/plain": [
       "73.07017543859648"
      ]
     },
     "execution_count": 14,
     "metadata": {},
     "output_type": "execute_result"
    }
   ],
   "source": [
    "smote_accuracy"
   ]
  },
  {
   "cell_type": "code",
   "execution_count": 15,
   "id": "618bd6ae",
   "metadata": {},
   "outputs": [
    {
     "data": {
      "text/plain": [
       "'No smote: 75.51, smote: 73.07'"
      ]
     },
     "execution_count": 15,
     "metadata": {},
     "output_type": "execute_result"
    }
   ],
   "source": [
    "f'No smote: {no_smote_accuracy:.02f}, smote: {smote_accuracy:.02f}'"
   ]
  },
  {
   "cell_type": "markdown",
   "id": "c3d7eac0",
   "metadata": {},
   "source": [
    "## Watch out! The code below is WRONG, just to see how easily mistaken one can be ;)"
   ]
  },
  {
   "cell_type": "code",
   "execution_count": 17,
   "id": "6b296cb3",
   "metadata": {},
   "outputs": [
    {
     "data": {
      "text/plain": [
       "80.16912751677853"
      ]
     },
     "execution_count": 17,
     "metadata": {},
     "output_type": "execute_result"
    }
   ],
   "source": [
    "from sklearn.model_selection import cross_val_score\n",
    "\n",
    "# WRONG! Don't balance before train test split\n",
    "sm = SMOTE(random_state=42)\n",
    "X_train, y_train = sm.fit_resample(X_train, y_train)\n",
    "\n",
    "# Splits created by cross_val_score have balaenced validation splits, which is WRONG :)\n",
    "mean(cross_val_score(hgb, X_train, y_train.values.flatten())) * 100"
   ]
  },
  {
   "cell_type": "code",
   "execution_count": null,
   "id": "9173eda8",
   "metadata": {},
   "outputs": [],
   "source": []
  }
 ],
 "metadata": {
  "kernelspec": {
   "display_name": "Python 3 (ipykernel)",
   "language": "python",
   "name": "python3"
  },
  "language_info": {
   "codemirror_mode": {
    "name": "ipython",
    "version": 3
   },
   "file_extension": ".py",
   "mimetype": "text/x-python",
   "name": "python",
   "nbconvert_exporter": "python",
   "pygments_lexer": "ipython3",
   "version": "3.9.0"
  }
 },
 "nbformat": 4,
 "nbformat_minor": 5
}
